{
  "nbformat": 4,
  "nbformat_minor": 0,
  "metadata": {
    "colab": {
      "name": "Train-X^3-Full-34UF-Init.ipynb",
      "version": "0.3.2",
      "provenance": [],
      "collapsed_sections": []
    },
    "kernelspec": {
      "name": "python3",
      "display_name": "Python 3"
    },
    "accelerator": "GPU"
  },
  "cells": [
    {
      "metadata": {
        "id": "BPbSOmoWhsqb",
        "colab_type": "text"
      },
      "cell_type": "markdown",
      "source": [
        "Load Data"
      ]
    },
    {
      "metadata": {
        "id": "4Hp3Ne6upmj9",
        "colab_type": "code",
        "outputId": "b92f5746-1b97-4d78-ee0b-80588f4accdf",
        "colab": {
          "base_uri": "https://localhost:8080/",
          "height": 366
        }
      },
      "cell_type": "code",
      "source": [
        "!pip install --upgrade scikit-image progressbar2"
      ],
      "execution_count": 0,
      "outputs": [
        {
          "output_type": "stream",
          "text": [
            "Requirement already up-to-date: scikit-image in /usr/local/lib/python3.6/dist-packages (0.14.2)\n",
            "Requirement already up-to-date: progressbar2 in /usr/local/lib/python3.6/dist-packages (3.39.3)\n",
            "Requirement already satisfied, skipping upgrade: cloudpickle>=0.2.1 in /usr/local/lib/python3.6/dist-packages (from scikit-image) (0.6.1)\n",
            "Requirement already satisfied, skipping upgrade: dask[array]>=1.0.0 in /usr/local/lib/python3.6/dist-packages (from scikit-image) (1.1.4)\n",
            "Requirement already satisfied, skipping upgrade: networkx>=1.8 in /usr/local/lib/python3.6/dist-packages (from scikit-image) (2.2)\n",
            "Requirement already satisfied, skipping upgrade: PyWavelets>=0.4.0 in /usr/local/lib/python3.6/dist-packages (from scikit-image) (1.0.2)\n",
            "Requirement already satisfied, skipping upgrade: six>=1.10.0 in /usr/local/lib/python3.6/dist-packages (from scikit-image) (1.11.0)\n",
            "Requirement already satisfied, skipping upgrade: matplotlib>=2.0.0 in /usr/local/lib/python3.6/dist-packages (from scikit-image) (3.0.3)\n",
            "Requirement already satisfied, skipping upgrade: scipy>=0.17.0 in /usr/local/lib/python3.6/dist-packages (from scikit-image) (1.1.0)\n",
            "Requirement already satisfied, skipping upgrade: pillow>=4.3.0 in /usr/local/lib/python3.6/dist-packages (from scikit-image) (5.4.1)\n",
            "Requirement already satisfied, skipping upgrade: python-utils>=2.3.0 in /usr/local/lib/python3.6/dist-packages (from progressbar2) (2.3.0)\n",
            "Requirement already satisfied, skipping upgrade: numpy>=1.11.0; extra == \"array\" in /usr/local/lib/python3.6/dist-packages (from dask[array]>=1.0.0->scikit-image) (1.14.6)\n",
            "Requirement already satisfied, skipping upgrade: toolz>=0.7.3; extra == \"array\" in /usr/local/lib/python3.6/dist-packages (from dask[array]>=1.0.0->scikit-image) (0.9.0)\n",
            "Requirement already satisfied, skipping upgrade: decorator>=4.3.0 in /usr/local/lib/python3.6/dist-packages (from networkx>=1.8->scikit-image) (4.3.2)\n",
            "Requirement already satisfied, skipping upgrade: python-dateutil>=2.1 in /usr/local/lib/python3.6/dist-packages (from matplotlib>=2.0.0->scikit-image) (2.5.3)\n",
            "Requirement already satisfied, skipping upgrade: kiwisolver>=1.0.1 in /usr/local/lib/python3.6/dist-packages (from matplotlib>=2.0.0->scikit-image) (1.0.1)\n",
            "Requirement already satisfied, skipping upgrade: cycler>=0.10 in /usr/local/lib/python3.6/dist-packages (from matplotlib>=2.0.0->scikit-image) (0.10.0)\n",
            "Requirement already satisfied, skipping upgrade: pyparsing!=2.0.4,!=2.1.2,!=2.1.6,>=2.0.1 in /usr/local/lib/python3.6/dist-packages (from matplotlib>=2.0.0->scikit-image) (2.3.1)\n",
            "Requirement already satisfied, skipping upgrade: setuptools in /usr/local/lib/python3.6/dist-packages (from kiwisolver>=1.0.1->matplotlib>=2.0.0->scikit-image) (40.8.0)\n"
          ],
          "name": "stdout"
        }
      ]
    },
    {
      "metadata": {
        "id": "SzMJ6R_xhky0",
        "colab_type": "code",
        "colab": {}
      },
      "cell_type": "code",
      "source": [
        "from skimage.util import view_as_blocks, view_as_windows, montage\n",
        "import matplotlib.pyplot as plt\n",
        "import numpy as np\n",
        "from numpy.random import randint\n",
        "import torch\n",
        "import torch.nn as nn\n",
        "import torch.optim as optim\n",
        "from torch.optim import lr_scheduler\n",
        "import torchvision\n",
        "from torchvision import datasets, transforms\n",
        "import time\n",
        "import os\n",
        "import copy\n",
        "import torch\n",
        "from torch import tensor \n",
        "from torch.autograd import Variable\n",
        "from torch import randn, matmul\n",
        "import matplotlib.pyplot as plt\n",
        "from scipy.misc import imresize, bytescale\n",
        "from progressbar import progressbar\n",
        "from google.colab import files"
      ],
      "execution_count": 0,
      "outputs": []
    },
    {
      "metadata": {
        "id": "6dwP8NzrsiAj",
        "colab_type": "code",
        "colab": {}
      },
      "cell_type": "code",
      "source": [
        "device = torch.device(\"cuda\" if torch.cuda.is_available() else \"cpu\")"
      ],
      "execution_count": 0,
      "outputs": []
    },
    {
      "metadata": {
        "id": "_5-vXxCmiFKE",
        "colab_type": "code",
        "outputId": "84b7f12f-ab02-4b69-ce02-eae4db48baf1",
        "colab": {
          "base_uri": "https://localhost:8080/",
          "height": 208
        }
      },
      "cell_type": "code",
      "source": [
        "import tflearn.datasets.oxflower17 as oxflower17\n",
        "X, Y = oxflower17.load_data(resize_pics=(227, 227), one_hot=True)"
      ],
      "execution_count": 0,
      "outputs": [
        {
          "output_type": "stream",
          "text": [
            "WARNING:tensorflow:From /usr/local/lib/python3.6/dist-packages/tensorflow/python/framework/op_def_library.py:263: colocate_with (from tensorflow.python.framework.ops) is deprecated and will be removed in a future version.\n",
            "Instructions for updating:\n",
            "Colocations handled automatically by placer.\n"
          ],
          "name": "stdout"
        }
      ]
    },
    {
      "metadata": {
        "id": "KA7lNwPcaHvw",
        "colab_type": "code",
        "colab": {}
      },
      "cell_type": "code",
      "source": [
        ""
      ],
      "execution_count": 0,
      "outputs": []
    },
    {
      "metadata": {
        "id": "dUjrmFc4aCbd",
        "colab_type": "code",
        "outputId": "b7658a0e-870d-4673-9fc3-dddc7de59eef",
        "colab": {
          "base_uri": "https://localhost:8080/",
          "height": 116
        }
      },
      "cell_type": "code",
      "source": [
        "X.shape, Y.shape"
      ],
      "execution_count": 0,
      "outputs": [
        {
          "output_type": "execute_result",
          "data": {
            "text/plain": [
              "((1360, 227, 227, 3), (1360, 17))"
            ]
          },
          "metadata": {
            "tags": []
          },
          "execution_count": 5
        }
      ]
    },
    {
      "metadata": {
        "id": "LmM0peXZu3jP",
        "colab_type": "code",
        "colab": {}
      },
      "cell_type": "code",
      "source": [
        "data_transforms = {\n",
        "    'train': transforms.Compose([\n",
        "        transforms.RandomResizedCrop(224),\n",
        "        transforms.RandomHorizontalFlip(),\n",
        "        transforms.ToTensor(),\n",
        "        transforms.Normalize([0.485, 0.456, 0.406], [0.229, 0.224, 0.225])\n",
        "    ]),\n",
        "    'val': transforms.Compose([\n",
        "        transforms.Resize(256),\n",
        "        transforms.CenterCrop(224),\n",
        "        transforms.ToTensor(),\n",
        "        transforms.Normalize([0.485, 0.456, 0.406], [0.229, 0.224, 0.225])\n",
        "    ]),\n",
        "}\n",
        "\n",
        "image_datasets = {x: torch.utils.data.TensorDataset(torch.tensor(X, dtype=torch.float).transpose(3,1),torch.tensor(Y, dtype=torch.float))\n",
        "                  for x in ['train', 'val']}\n",
        "dataloaders = {x: torch.utils.data.DataLoader(image_datasets[x], batch_size=4,\n",
        "                                             shuffle=True, num_workers=4)\n",
        "              for x in ['train', 'val']}\n",
        "dataset_sizes = {x: len(image_datasets[x]) for x in ['train', 'val']}"
      ],
      "execution_count": 0,
      "outputs": []
    },
    {
      "metadata": {
        "colab_type": "code",
        "id": "eJxgg7_XrnuU",
        "colab": {}
      },
      "cell_type": "code",
      "source": [
        "def NC(a):\n",
        "  \n",
        "#   return torch.matmul(X,torch.diag(torch.div(1, X.pow(2).sum(dim=0).sqrt())))\n",
        "\n",
        "  return torch.mm(a, torch.diag(1./(torch.sqrt(torch.sum(a**2, 0))+1e-6)))"
      ],
      "execution_count": 0,
      "outputs": []
    },
    {
      "metadata": {
        "id": "gMNdsK04Gyas",
        "colab_type": "code",
        "colab": {}
      },
      "cell_type": "code",
      "source": [
        "def whiten(X):\n",
        "    '''Function to ZCA whiten image matrix.'''\n",
        "    U,S,V = torch.svd(torch.mm(X, torch.t(X)))\n",
        "    epsilon = 1e-5\n",
        "    ZCAMatrix = torch.mm(U, torch.mm(torch.diag(1.0/torch.sqrt(S + epsilon)),\n",
        "                                                torch.t(U)))\n",
        "    return torch.mm(ZCAMatrix, X)"
      ],
      "execution_count": 0,
      "outputs": []
    },
    {
      "metadata": {
        "id": "61QDCVW2rKLF",
        "colab_type": "code",
        "colab": {}
      },
      "cell_type": "code",
      "source": [
        "def toImg(arr):\n",
        "  return ((arr - arr.min()) * (1/(arr.max() - arr.min()) * 255)).astype('uint8')"
      ],
      "execution_count": 0,
      "outputs": []
    },
    {
      "metadata": {
        "id": "Nhe-ArkSC_e9",
        "colab_type": "code",
        "colab": {}
      },
      "cell_type": "code",
      "source": [
        "def get_batch(X, patchshape, batch_size=200, step=11):\n",
        "  \n",
        "  ix = randint(0,X.shape[1]-patchshape[0])\n",
        "  iy = randint(0,X.shape[2]-patchshape[1])\n",
        "  iz = randint(0,X.shape[3]-patchshape[2]) if patchshape[2] != X.shape[3] else 0\n",
        "  \n",
        "  iax = ix + patchshape[0]\n",
        "  iay = iy + patchshape[1]\n",
        "  iaz = iz + patchshape[2]\n",
        "\n",
        "  B = X[randint(0,X.shape[0], size=batch_size),ix:iax,iy:iay,iz:iaz].contiguous().view(batch_size, patchshape[0]*patchshape[1]*patchshape[2])\n",
        "\n",
        "  B = B.t()\n",
        "  \n",
        "  B = whiten(B- torch.mean(B, 0))\n",
        "  \n",
        "  return B\n",
        "                 "
      ],
      "execution_count": 0,
      "outputs": []
    },
    {
      "metadata": {
        "id": "PmSGxSwDrrDH",
        "colab_type": "code",
        "colab": {}
      },
      "cell_type": "code",
      "source": [
        "def X3(X, filter_size, filter_depth, num_filters, iters=500):\n",
        "  \n",
        "  W = Variable(randn(filter_size*filter_size*filter_depth,num_filters))\n",
        "\n",
        "  for i in progressbar(range(iters)):\n",
        "    \n",
        "    lX = get_batch(X, (filter_size, filter_size, filter_depth))\n",
        "    \n",
        "    W = NC(W)\n",
        "    \n",
        "    a = torch.matmul(W.t(), lX)\n",
        "    \n",
        "    a = NC(a)\n",
        "    \n",
        "    a = 0.5*a.pow(3)\n",
        "    \n",
        "    W += matmul((lX - matmul(W,a)),a.t())\n",
        "    \n",
        "  \n",
        "  return W.transpose(1,0).view(num_filters, filter_size, filter_size, filter_depth)"
      ],
      "execution_count": 0,
      "outputs": []
    },
    {
      "metadata": {
        "id": "JSO8TepWh8xF",
        "colab_type": "code",
        "colab": {}
      },
      "cell_type": "code",
      "source": [
        "class X3Net(nn.Module):\n",
        "\n",
        "    def __init__(self):\n",
        "        super(X3Net, self).__init__()\n",
        "        self.conv1 = nn.Conv2d(3, 64, kernel_size=11, stride=4, padding=2)\n",
        "        self.relu1 = nn.ReLU(inplace=True)\n",
        "        self.pool1 = nn.MaxPool2d(kernel_size=3, stride=2)\n",
        "        self.conv2 = nn.Conv2d(64, 192, kernel_size=5, padding=2)\n",
        "        self.relu2 = nn.ReLU(inplace=True)\n",
        "        self.pool2 = nn.MaxPool2d(kernel_size=3, stride=2)\n",
        "        self.conv3 = nn.Conv2d(192, 384, kernel_size=3, padding=1)\n",
        "        self.relu3 = nn.ReLU(inplace=True)\n",
        "        self.conv4 = nn.Conv2d(384, 256, kernel_size=3, padding=1)\n",
        "        self.relu4 = nn.ReLU(inplace=True)\n",
        "        self.conv5 = nn.Conv2d(256, 256, kernel_size=3, padding=1)\n",
        "        self.relu5 = nn.ReLU(inplace=True)\n",
        "        self.pool5 = nn.MaxPool2d(kernel_size=3, stride=2)\n",
        "        self.avgpool = nn.AdaptiveAvgPool2d((6, 6))\n",
        "        self.classifier = nn.Sequential(\n",
        "            nn.Linear(256 * 6 * 6, 4096),\n",
        "            nn.ReLU(inplace=True),\n",
        "            nn.Linear(4096, 2048),\n",
        "            nn.ReLU(inplace=True),\n",
        "            nn.Linear(2048, 17),\n",
        "        )\n",
        "\n",
        "    def part1(self, x):\n",
        "        x = self.conv1(x)\n",
        "        return x\n",
        "        \n",
        "    def part2(self, x):\n",
        "        x = self.part1(x)\n",
        "        x = self.relu1(x)\n",
        "        x = self.pool1(x)\n",
        "        x = self.conv2(x)\n",
        "        return x\n",
        "        \n",
        "    def part3(self, x):\n",
        "        x = self.part2(x)\n",
        "        x = self.relu2(x)\n",
        "        x = self.pool2(x)\n",
        "        x = self.conv3(x)\n",
        "        return x\n",
        "        \n",
        "    def part4(self, x):\n",
        "        x = self.part3(x)\n",
        "        x = self.relu3(x)\n",
        "        x = self.conv4(x)\n",
        "        return x\n",
        "        \n",
        "    def part5(self, x):\n",
        "        x = self.part4(x)\n",
        "        x = self.relu4(x)\n",
        "        x = self.conv5(x)\n",
        "        return x\n",
        "        \n",
        "    def forward(self, x):\n",
        "        x = self.part5(x)\n",
        "        x = self.relu5(x)\n",
        "        x = self.pool5(x)\n",
        "        x = self.avgpool(x)\n",
        "        x = x.view(x.size(0), 256 * 6 * 6)\n",
        "        x = self.classifier(x)\n",
        "        return x"
      ],
      "execution_count": 0,
      "outputs": []
    },
    {
      "metadata": {
        "id": "obKBiqWfu5Oq",
        "colab_type": "code",
        "colab": {}
      },
      "cell_type": "code",
      "source": [
        "\n",
        "Xp = torch.tensor(X, dtype=torch.float)"
      ],
      "execution_count": 0,
      "outputs": []
    },
    {
      "metadata": {
        "id": "Dq6zsd2a40EI",
        "colab_type": "code",
        "outputId": "d73db868-e769-4707-b19c-10a8f999f451",
        "colab": {
          "base_uri": "https://localhost:8080/",
          "height": 76
        }
      },
      "cell_type": "code",
      "source": [
        "Xp.shape"
      ],
      "execution_count": 0,
      "outputs": [
        {
          "output_type": "execute_result",
          "data": {
            "text/plain": [
              "torch.Size([1360, 227, 227, 3])"
            ]
          },
          "metadata": {
            "tags": []
          },
          "execution_count": 21
        }
      ]
    },
    {
      "metadata": {
        "id": "0QfLtU_ekAwV",
        "colab_type": "code",
        "outputId": "d06b7af2-3f8f-4d10-eb22-79cb5be33b3b",
        "colab": {
          "base_uri": "https://localhost:8080/",
          "height": 1020
        }
      },
      "cell_type": "code",
      "source": [
        "W = X3(Xp,11,3,64)"
      ],
      "execution_count": 0,
      "outputs": [
        {
          "output_type": "stream",
          "text": [
            "100% (500 of 500) |######################| Elapsed Time: 0:00:14 Time:  0:00:14\n"
          ],
          "name": "stderr"
        }
      ]
    },
    {
      "metadata": {
        "id": "N6xOM26dFm5a",
        "colab_type": "code",
        "outputId": "bde5464d-1497-414c-f5a4-eafe40b3e1cb",
        "colab": {
          "base_uri": "https://localhost:8080/",
          "height": 76
        }
      },
      "cell_type": "code",
      "source": [
        "W.shape"
      ],
      "execution_count": 0,
      "outputs": [
        {
          "output_type": "execute_result",
          "data": {
            "text/plain": [
              "torch.Size([64, 11, 11, 3])"
            ]
          },
          "metadata": {
            "tags": []
          },
          "execution_count": 23
        }
      ]
    },
    {
      "metadata": {
        "id": "MtGOQBbaFm7f",
        "colab_type": "code",
        "outputId": "81c23054-9f4a-45a8-89c2-b6d0097ec6a3",
        "colab": {
          "base_uri": "https://localhost:8080/",
          "height": 387
        }
      },
      "cell_type": "code",
      "source": [
        "plt.grid(b=None)\n",
        "plt.axis('off')\n",
        "plt.imshow(montage(toImg(W.numpy()), multichannel=True))"
      ],
      "execution_count": 0,
      "outputs": [
        {
          "output_type": "execute_result",
          "data": {
            "text/plain": [
              "<matplotlib.image.AxesImage at 0x7f406b49b710>"
            ]
          },
          "metadata": {
            "tags": []
          },
          "execution_count": 24
        },
        {
          "output_type": "display_data",
          "data": {
            "image/png": "[encoded data removed]",
            "text/plain": [
              "<Figure size 576x396 with 1 Axes>"
            ]
          },
          "metadata": {
            "tags": []
          }
        }
      ]
    },
    {
      "metadata": {
        "id": "3dCle2iyhv8W",
        "colab_type": "code",
        "colab": {}
      },
      "cell_type": "code",
      "source": [
        "net = X3Net().to(device)"
      ],
      "execution_count": 0,
      "outputs": []
    },
    {
      "metadata": {
        "id": "2HeAopebjYz2",
        "colab_type": "code",
        "colab": {}
      },
      "cell_type": "code",
      "source": [
        "net.conv1.weight.data = W.transpose(3,1).to(device)"
      ],
      "execution_count": 0,
      "outputs": []
    },
    {
      "metadata": {
        "id": "FQ9Q6hd6tBVB",
        "colab_type": "code",
        "colab": {}
      },
      "cell_type": "code",
      "source": [
        "Xp = net.part1(torch.tensor(X, dtype=torch.float).transpose(3,1).to(device)).cpu().detach().transpose(1,3)"
      ],
      "execution_count": 0,
      "outputs": []
    },
    {
      "metadata": {
        "id": "FR0zcwcVvVUl",
        "colab_type": "code",
        "colab": {}
      },
      "cell_type": "code",
      "source": [
        "Xp.shape"
      ],
      "execution_count": 0,
      "outputs": []
    },
    {
      "metadata": {
        "id": "yj3bGQGBvXkE",
        "colab_type": "code",
        "colab": {}
      },
      "cell_type": "code",
      "source": [
        "W = X3(Xp,5,64,192)"
      ],
      "execution_count": 0,
      "outputs": []
    },
    {
      "metadata": {
        "id": "fj3jcyGErauH",
        "colab_type": "code",
        "colab": {}
      },
      "cell_type": "code",
      "source": [
        "W.shape"
      ],
      "execution_count": 0,
      "outputs": []
    },
    {
      "metadata": {
        "id": "8YvDRQRjrVDZ",
        "colab_type": "code",
        "colab": {}
      },
      "cell_type": "code",
      "source": [
        "plt.imshow(montage(toImg(W[15].transpose(2,0).cpu().numpy())))"
      ],
      "execution_count": 0,
      "outputs": []
    },
    {
      "metadata": {
        "id": "U3U424bswmHV",
        "colab_type": "code",
        "colab": {}
      },
      "cell_type": "code",
      "source": [
        "net.conv2.weight.data = W.transpose(3,1).to(device)"
      ],
      "execution_count": 0,
      "outputs": []
    },
    {
      "metadata": {
        "colab_type": "code",
        "id": "fOCTlwNjwRQ0",
        "colab": {}
      },
      "cell_type": "code",
      "source": [
        "Xp = net.part2(torch.tensor(X, dtype=torch.float).transpose(3,1).to(device)).cpu().detach().transpose(1,3)"
      ],
      "execution_count": 0,
      "outputs": []
    },
    {
      "metadata": {
        "id": "7ie6AvdVv19w",
        "colab_type": "code",
        "colab": {}
      },
      "cell_type": "code",
      "source": [
        "W = X3(Xp,3,192,384)"
      ],
      "execution_count": 0,
      "outputs": []
    },
    {
      "metadata": {
        "id": "pL31ZiN3yhSF",
        "colab_type": "code",
        "colab": {}
      },
      "cell_type": "code",
      "source": [
        "W.shape"
      ],
      "execution_count": 0,
      "outputs": []
    },
    {
      "metadata": {
        "colab_type": "code",
        "id": "4mG0gHk-ws3u",
        "colab": {}
      },
      "cell_type": "code",
      "source": [
        "net.conv3.weight.data = W.transpose(3,1).to(device)"
      ],
      "execution_count": 0,
      "outputs": []
    },
    {
      "metadata": {
        "colab_type": "code",
        "id": "ULwjZowBwRs0",
        "colab": {}
      },
      "cell_type": "code",
      "source": [
        "Xp = net.part3(torch.tensor(X, dtype=torch.float).transpose(3,1).to(device)).cpu().detach().transpose(1,3)"
      ],
      "execution_count": 0,
      "outputs": []
    },
    {
      "metadata": {
        "id": "CpUkFcXxv3Ts",
        "colab_type": "code",
        "colab": {}
      },
      "cell_type": "code",
      "source": [
        "W = X3(Xp,3,384,256)"
      ],
      "execution_count": 0,
      "outputs": []
    },
    {
      "metadata": {
        "colab_type": "code",
        "id": "kUjRQ6KzwvUY",
        "colab": {}
      },
      "cell_type": "code",
      "source": [
        "net.conv4.weight.data = W.transpose(3,1).to(device)"
      ],
      "execution_count": 0,
      "outputs": []
    },
    {
      "metadata": {
        "colab_type": "code",
        "id": "rIvDlonawR_3",
        "colab": {}
      },
      "cell_type": "code",
      "source": [
        "Xp = net.part4(torch.tensor(X, dtype=torch.float).transpose(3,1).to(device)).cpu().detach().transpose(1,3)"
      ],
      "execution_count": 0,
      "outputs": []
    },
    {
      "metadata": {
        "id": "kJyEWKeJv4hA",
        "colab_type": "code",
        "colab": {}
      },
      "cell_type": "code",
      "source": [
        "W = X3(Xp,3,256,256)"
      ],
      "execution_count": 0,
      "outputs": []
    },
    {
      "metadata": {
        "colab_type": "code",
        "id": "l7ZFAQFhwwWv",
        "colab": {}
      },
      "cell_type": "code",
      "source": [
        "net.conv5.weight.data = W.transpose(3,1).to(device)"
      ],
      "execution_count": 0,
      "outputs": []
    },
    {
      "metadata": {
        "id": "GfVke-w1jhzz",
        "colab_type": "code",
        "colab": {}
      },
      "cell_type": "code",
      "source": [
        ""
      ],
      "execution_count": 0,
      "outputs": []
    },
    {
      "metadata": {
        "id": "7H2mSimLh7LI",
        "colab_type": "code",
        "colab": {}
      },
      "cell_type": "code",
      "source": [
        "net.conv1.weight.requires_grad = False\n",
        "net.conv2.weight.requires_grad = False\n",
        "net.conv3.weight.requires_grad = False\n",
        "net.conv4.weight.requires_grad = False\n",
        "net.conv5.weight.requires_grad = False"
      ],
      "execution_count": 0,
      "outputs": []
    },
    {
      "metadata": {
        "id": "-r3ujlFmwg8x",
        "colab_type": "code",
        "colab": {}
      },
      "cell_type": "code",
      "source": [
        "with open('x3net_flowers.model', 'wb') as f:\n",
        "    torch.save(net, f)"
      ],
      "execution_count": 0,
      "outputs": []
    },
    {
      "metadata": {
        "id": "e4q7VY9hZorR",
        "colab_type": "code",
        "colab": {}
      },
      "cell_type": "code",
      "source": [
        ""
      ],
      "execution_count": 0,
      "outputs": []
    },
    {
      "metadata": {
        "id": "0b-a6naaZpyn",
        "colab_type": "code",
        "colab": {}
      },
      "cell_type": "code",
      "source": [
        "#Load model from file\n",
        "with open('x3net_flowers.model', 'rb') as f:\n",
        "    net = torch.load(f).to(device)"
      ],
      "execution_count": 0,
      "outputs": []
    },
    {
      "metadata": {
        "id": "cgki3luahuq_",
        "colab_type": "code",
        "colab": {}
      },
      "cell_type": "code",
      "source": [
        "net.conv4.weight.requires_grad = True\n",
        "net.conv5.weight.requires_grad = True"
      ],
      "execution_count": 0,
      "outputs": []
    },
    {
      "metadata": {
        "id": "cBr-I1aDamoa",
        "colab_type": "code",
        "outputId": "21adb5a1-7da1-4620-c2ed-2b12c2f2e163",
        "colab": {
          "base_uri": "https://localhost:8080/",
          "height": 899
        }
      },
      "cell_type": "code",
      "source": [
        "for x in net.parameters():\n",
        "    print(x.shape)\n",
        "    print(x.dtype)\n",
        "    print(torch.isnan(x).nonzero())"
      ],
      "execution_count": 0,
      "outputs": [
        {
          "output_type": "stream",
          "text": [
            "torch.Size([64, 3, 11, 11])\n",
            "torch.float32\n",
            "tensor([], device='cuda:0', size=(0, 4), dtype=torch.int64)\n",
            "torch.Size([64])\n",
            "torch.float32\n",
            "tensor([], device='cuda:0', size=(0, 1), dtype=torch.int64)\n",
            "torch.Size([192, 64, 5, 5])\n",
            "torch.float32\n",
            "tensor([], device='cuda:0', size=(0, 4), dtype=torch.int64)\n",
            "torch.Size([192])\n",
            "torch.float32\n",
            "tensor([], device='cuda:0', size=(0, 1), dtype=torch.int64)\n",
            "torch.Size([384, 192, 3, 3])\n",
            "torch.float32\n",
            "tensor([], device='cuda:0', size=(0, 4), dtype=torch.int64)\n",
            "torch.Size([384])\n",
            "torch.float32\n",
            "tensor([], device='cuda:0', size=(0, 1), dtype=torch.int64)\n",
            "torch.Size([256, 384, 3, 3])\n",
            "torch.float32\n",
            "tensor([], device='cuda:0', size=(0, 4), dtype=torch.int64)\n",
            "torch.Size([256])\n",
            "torch.float32\n",
            "tensor([], device='cuda:0', size=(0, 1), dtype=torch.int64)\n",
            "torch.Size([256, 256, 3, 3])\n",
            "torch.float32\n",
            "tensor([], device='cuda:0', size=(0, 4), dtype=torch.int64)\n",
            "torch.Size([256])\n",
            "torch.float32\n",
            "tensor([], device='cuda:0', size=(0, 1), dtype=torch.int64)\n",
            "torch.Size([4096, 9216])\n",
            "torch.float32\n",
            "tensor([], device='cuda:0', size=(0, 2), dtype=torch.int64)\n",
            "torch.Size([4096])\n",
            "torch.float32\n",
            "tensor([], device='cuda:0', size=(0, 1), dtype=torch.int64)\n",
            "torch.Size([2048, 4096])\n",
            "torch.float32\n",
            "tensor([], device='cuda:0', size=(0, 2), dtype=torch.int64)\n",
            "torch.Size([2048])\n",
            "torch.float32\n",
            "tensor([], device='cuda:0', size=(0, 1), dtype=torch.int64)\n",
            "torch.Size([17, 2048])\n",
            "torch.float32\n",
            "tensor([], device='cuda:0', size=(0, 2), dtype=torch.int64)\n",
            "torch.Size([17])\n",
            "torch.float32\n",
            "tensor([], device='cuda:0', size=(0, 1), dtype=torch.int64)\n"
          ],
          "name": "stdout"
        }
      ]
    },
    {
      "metadata": {
        "id": "DjdrqfieZqVd",
        "colab_type": "code",
        "outputId": "1844fc95-ae53-4500-bbfc-69bcab8bb8a3",
        "colab": {
          "base_uri": "https://localhost:8080/",
          "height": 439
        }
      },
      "cell_type": "code",
      "source": [
        "print(net)"
      ],
      "execution_count": 0,
      "outputs": [
        {
          "output_type": "stream",
          "text": [
            "X3Net(\n",
            "  (conv1): Conv2d(3, 64, kernel_size=(11, 11), stride=(4, 4), padding=(2, 2))\n",
            "  (relu1): ReLU(inplace)\n",
            "  (pool1): MaxPool2d(kernel_size=3, stride=2, padding=0, dilation=1, ceil_mode=False)\n",
            "  (conv2): Conv2d(64, 192, kernel_size=(5, 5), stride=(1, 1), padding=(2, 2))\n",
            "  (relu2): ReLU(inplace)\n",
            "  (pool2): MaxPool2d(kernel_size=3, stride=2, padding=0, dilation=1, ceil_mode=False)\n",
            "  (conv3): Conv2d(192, 384, kernel_size=(3, 3), stride=(1, 1), padding=(1, 1))\n",
            "  (relu3): ReLU(inplace)\n",
            "  (conv4): Conv2d(384, 256, kernel_size=(3, 3), stride=(1, 1), padding=(1, 1))\n",
            "  (relu4): ReLU(inplace)\n",
            "  (conv5): Conv2d(256, 256, kernel_size=(3, 3), stride=(1, 1), padding=(1, 1))\n",
            "  (relu5): ReLU(inplace)\n",
            "  (pool5): MaxPool2d(kernel_size=3, stride=2, padding=0, dilation=1, ceil_mode=False)\n",
            "  (avgpool): AdaptiveAvgPool2d(output_size=(6, 6))\n",
            "  (classifier): Sequential(\n",
            "    (0): Linear(in_features=9216, out_features=4096, bias=True)\n",
            "    (1): ReLU(inplace)\n",
            "    (2): Linear(in_features=4096, out_features=2048, bias=True)\n",
            "    (3): ReLU(inplace)\n",
            "    (4): Linear(in_features=2048, out_features=17, bias=True)\n",
            "  )\n",
            ")\n"
          ],
          "name": "stdout"
        }
      ]
    },
    {
      "metadata": {
        "id": "VuTylJMWt8Kt",
        "colab_type": "code",
        "colab": {}
      },
      "cell_type": "code",
      "source": [
        "def train_model(model, criterion, optimizer, scheduler, num_epochs=25):\n",
        "    since = time.time()\n",
        "\n",
        "    best_model_wts = copy.deepcopy(model.state_dict())\n",
        "    best_acc = 0.0\n",
        "\n",
        "    for epoch in range(num_epochs):\n",
        "        print('Epoch {}/{}'.format(epoch, num_epochs - 1))\n",
        "        print('-' * 10)\n",
        "\n",
        "        # Each epoch has a training and validation phase\n",
        "        for phase in ['train', 'val']:\n",
        "            if phase == 'train':\n",
        "                scheduler.step()\n",
        "                model.train()  # Set model to training mode\n",
        "            else:\n",
        "                model.eval()   # Set model to evaluate mode\n",
        "\n",
        "            running_loss = 0.0\n",
        "            running_corrects = 0\n",
        "\n",
        "            # Iterate over data.\n",
        "            for inputs, labels in dataloaders[phase]:\n",
        "                inputs = inputs.to(device)\n",
        "                labels = labels.to(device)\n",
        "\n",
        "                # zero the parameter gradients\n",
        "                optimizer.zero_grad()\n",
        "\n",
        "                # forward\n",
        "                # track history if only in train\n",
        "                with torch.set_grad_enabled(phase == 'train'):\n",
        "                    outputs = model(inputs)\n",
        "                    _, preds = torch.max(outputs, 1)\n",
        "                    loss = criterion(outputs, torch.argmax(labels,1))\n",
        "\n",
        "                    # backward + optimize only if in training phase\n",
        "                    if phase == 'train':\n",
        "                        loss.backward()\n",
        "                        optimizer.step()\n",
        "\n",
        "                # statistics\n",
        "                running_loss += loss.item() * inputs.size(0)\n",
        "                running_corrects += torch.sum(preds == torch.argmax(labels.data,1))\n",
        "\n",
        "            epoch_loss = running_loss / dataset_sizes[phase]\n",
        "            epoch_acc = running_corrects.double() / dataset_sizes[phase]\n",
        "\n",
        "            print('{} Loss: {:.4f} Acc: {:.4f}'.format(\n",
        "                phase, epoch_loss, epoch_acc))\n",
        "\n",
        "            # deep copy the model\n",
        "            if phase == 'val' and epoch_acc > best_acc:\n",
        "                best_acc = epoch_acc\n",
        "                best_model_wts = copy.deepcopy(model.state_dict())\n",
        "\n",
        "        print()\n",
        "\n",
        "    time_elapsed = time.time() - since\n",
        "    print('Training complete in {:.0f}m {:.0f}s'.format(\n",
        "        time_elapsed // 60, time_elapsed % 60))\n",
        "    print('Best val Acc: {:4f}'.format(best_acc))\n",
        "\n",
        "    # load best model weights\n",
        "    model.load_state_dict(best_model_wts)\n",
        "    return model\n"
      ],
      "execution_count": 0,
      "outputs": []
    },
    {
      "metadata": {
        "id": "W351NGE8SM25",
        "colab_type": "code",
        "colab": {}
      },
      "cell_type": "code",
      "source": [
        "optimizer_ft = optim.SGD(net.parameters(), lr=0.001, momentum=0.1)\n",
        "criterion = nn.CrossEntropyLoss()\n",
        "exp_lr_scheduler = lr_scheduler.StepLR(optimizer_ft, step_size=7, gamma=0.9)"
      ],
      "execution_count": 0,
      "outputs": []
    },
    {
      "metadata": {
        "id": "AQjmtnfgSe7i",
        "colab_type": "code",
        "outputId": "b37c7706-38c7-4db3-fd34-471a8a9d8c0f",
        "colab": {
          "base_uri": "https://localhost:8080/",
          "height": 2552
        }
      },
      "cell_type": "code",
      "source": [
        "net_45uf = train_model(net, criterion, optimizer_ft, exp_lr_scheduler,\n",
        "                       num_epochs=50)"
      ],
      "execution_count": 0,
      "outputs": [
        {
          "output_type": "stream",
          "text": [
            "Epoch 0/49\n",
            "----------\n",
            "train Loss: 17.1330 Acc: 0.2853\n",
            "val Loss: 1.5355 Acc: 0.4522\n",
            "\n",
            "Epoch 1/49\n",
            "----------\n",
            "train Loss: 1.4924 Acc: 0.4890\n",
            "val Loss: 1.0344 Acc: 0.6625\n",
            "\n",
            "Epoch 2/49\n",
            "----------\n",
            "train Loss: 1.0658 Acc: 0.6419\n",
            "val Loss: 0.8348 Acc: 0.6890\n",
            "\n",
            "Epoch 3/49\n",
            "----------\n",
            "train Loss: 0.7763 Acc: 0.7566\n",
            "val Loss: 0.6073 Acc: 0.8029\n",
            "\n",
            "Epoch 4/49\n",
            "----------\n",
            "train Loss: 0.5118 Acc: 0.8404\n",
            "val Loss: 0.2828 Acc: 0.9243\n",
            "\n",
            "Epoch 5/49\n",
            "----------\n",
            "train Loss: 0.3206 Acc: 0.9074\n",
            "val Loss: 0.2365 Acc: 0.9279\n",
            "\n",
            "Epoch 6/49\n",
            "----------\n",
            "train Loss: 0.1849 Acc: 0.9551\n",
            "val Loss: 0.0851 Acc: 0.9860\n",
            "\n",
            "Epoch 7/49\n",
            "----------\n",
            "train Loss: 0.0931 Acc: 0.9794\n",
            "val Loss: 0.0525 Acc: 0.9926\n",
            "\n",
            "Epoch 8/49\n",
            "----------\n",
            "train Loss: 0.0447 Acc: 0.9963\n",
            "val Loss: 0.0228 Acc: 0.9993\n",
            "\n",
            "Epoch 9/49\n",
            "----------\n",
            "train Loss: 0.0321 Acc: 0.9963\n",
            "val Loss: 0.0171 Acc: 1.0000\n",
            "\n",
            "Epoch 10/49\n",
            "----------\n",
            "train Loss: 0.0170 Acc: 1.0000\n",
            "val Loss: 0.0115 Acc: 1.0000\n",
            "\n",
            "Epoch 11/49\n",
            "----------\n",
            "train Loss: 0.0120 Acc: 1.0000\n",
            "val Loss: 0.0094 Acc: 1.0000\n",
            "\n",
            "Epoch 12/49\n",
            "----------\n",
            "train Loss: 0.0097 Acc: 1.0000\n",
            "val Loss: 0.0095 Acc: 0.9985\n",
            "\n",
            "Epoch 13/49\n",
            "----------\n",
            "train Loss: 0.0080 Acc: 1.0000\n",
            "val Loss: 0.0066 Acc: 1.0000\n",
            "\n",
            "Epoch 14/49\n",
            "----------\n",
            "train Loss: 0.0063 Acc: 1.0000\n",
            "val Loss: 0.0056 Acc: 1.0000\n",
            "\n",
            "Epoch 15/49\n",
            "----------\n",
            "train Loss: 0.0056 Acc: 1.0000\n",
            "val Loss: 0.0048 Acc: 1.0000\n",
            "\n",
            "Epoch 16/49\n",
            "----------\n",
            "train Loss: 0.0049 Acc: 1.0000\n",
            "val Loss: 0.0044 Acc: 1.0000\n",
            "\n",
            "Epoch 17/49\n",
            "----------\n",
            "train Loss: 0.0045 Acc: 1.0000\n",
            "val Loss: 0.0040 Acc: 1.0000\n",
            "\n",
            "Epoch 18/49\n",
            "----------\n",
            "train Loss: 0.0041 Acc: 1.0000\n",
            "val Loss: 0.0036 Acc: 1.0000\n",
            "\n",
            "Epoch 19/49\n",
            "----------\n",
            "train Loss: 0.0037 Acc: 1.0000\n",
            "val Loss: 0.0034 Acc: 1.0000\n",
            "\n",
            "Epoch 20/49\n",
            "----------\n",
            "train Loss: 0.0034 Acc: 1.0000\n",
            "val Loss: 0.0031 Acc: 1.0000\n",
            "\n",
            "Epoch 21/49\n",
            "----------\n",
            "train Loss: 0.0032 Acc: 1.0000\n",
            "val Loss: 0.0030 Acc: 1.0000\n",
            "\n",
            "Epoch 22/49\n",
            "----------\n",
            "train Loss: 0.0030 Acc: 1.0000\n",
            "val Loss: 0.0028 Acc: 1.0000\n",
            "\n",
            "Epoch 23/49\n",
            "----------\n",
            "train Loss: 0.0028 Acc: 1.0000\n",
            "val Loss: 0.0026 Acc: 1.0000\n",
            "\n",
            "Epoch 24/49\n",
            "----------\n",
            "train Loss: 0.0027 Acc: 1.0000\n",
            "val Loss: 0.0025 Acc: 1.0000\n",
            "\n",
            "Epoch 25/49\n",
            "----------\n",
            "train Loss: 0.0025 Acc: 1.0000\n",
            "val Loss: 0.0024 Acc: 1.0000\n",
            "\n",
            "Epoch 26/49\n",
            "----------\n",
            "train Loss: 0.0024 Acc: 1.0000\n",
            "val Loss: 0.0022 Acc: 1.0000\n",
            "\n",
            "Epoch 27/49\n",
            "----------\n",
            "train Loss: 0.0023 Acc: 1.0000\n"
          ],
          "name": "stdout"
        }
      ]
    },
    {
      "metadata": {
        "id": "4epmNNOpSq3R",
        "colab_type": "code",
        "colab": {}
      },
      "cell_type": "code",
      "source": [
        ""
      ],
      "execution_count": 0,
      "outputs": []
    }
  ]
}